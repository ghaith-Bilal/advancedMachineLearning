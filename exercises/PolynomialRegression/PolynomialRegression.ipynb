{
  "nbformat": 4,
  "nbformat_minor": 0,
  "metadata": {
    "colab": {
      "provenance": [],
      "authorship_tag": "ABX9TyMKMEvfHHlKSFOVIofqDHZc"
    },
    "kernelspec": {
      "name": "python3",
      "display_name": "Python 3"
    },
    "language_info": {
      "name": "python"
    }
  },
  "cells": [
    {
      "cell_type": "code",
      "source": [
        "from google.colab import drive\n",
        "drive.mount('/content/drive')"
      ],
      "metadata": {
        "colab": {
          "base_uri": "https://localhost:8080/"
        },
        "id": "T7VSrYG_hLjG",
        "outputId": "ff47caba-16c0-4075-f0c4-2f5837080f5f"
      },
      "execution_count": 1,
      "outputs": [
        {
          "output_type": "stream",
          "name": "stdout",
          "text": [
            "Mounted at /content/drive\n"
          ]
        }
      ]
    },
    {
      "cell_type": "code",
      "source": [
        "import numpy as np\n",
        "import pandas as pd \n",
        "import matplotlib.pyplot as plt \n",
        "from sklearn.linear_model import LinearRegression\n",
        "from sklearn.preprocessing import PolynomialFeatures\n",
        "import cv2"
      ],
      "metadata": {
        "id": "aRd7kAoHk_fb"
      },
      "execution_count": 2,
      "outputs": []
    },
    {
      "cell_type": "code",
      "source": [
        "#read the DataSet\n",
        "df=pd.read_csv('/content/drive/MyDrive/assignmentForAML/PolynomialRegression/polynomial-regression.csv')\n",
        "print(df)"
      ],
      "metadata": {
        "colab": {
          "base_uri": "https://localhost:8080/"
        },
        "id": "nJ8phPvVlDnR",
        "outputId": "0940b776-a4b6-4e44-9e4f-ae1fa845f07b"
      },
      "execution_count": 3,
      "outputs": [
        {
          "output_type": "stream",
          "name": "stdout",
          "text": [
            "    araba_fiyat  araba_max_hiz\n",
            "0            60            180\n",
            "1            70            180\n",
            "2            80            200\n",
            "3           100            200\n",
            "4           120            200\n",
            "5           150            220\n",
            "6           200            240\n",
            "7           250            240\n",
            "8           300            300\n",
            "9           400            350\n",
            "10          500            350\n",
            "11          750            360\n",
            "12         1000            365\n",
            "13         2000            365\n",
            "14         3000            365\n"
          ]
        }
      ]
    },
    {
      "cell_type": "code",
      "source": [
        "#visualize \n",
        "\n",
        "x=df.araba_fiyat.values.reshape(-1,1)\n",
        "y=df.araba_max_hiz.values.reshape(-1,1)\n",
        "\n",
        "plt.scatter(x,y,color=\"red\")\n",
        "plt.xlabel(\"araba_fiyat\")\n",
        "plt.ylabel(\"araba_max_hiz\")\n",
        "plt.show()"
      ],
      "metadata": {
        "colab": {
          "base_uri": "https://localhost:8080/",
          "height": 280
        },
        "id": "FXlIk6CklH9B",
        "outputId": "ec452370-b5b7-4ee2-85f7-9304fe0c8f99"
      },
      "execution_count": 4,
      "outputs": [
        {
          "output_type": "display_data",
          "data": {
            "text/plain": [
              "<Figure size 432x288 with 1 Axes>"
            ],
            "image/png": "[encoded data removed]"
          },
          "metadata": {
            "needs_background": "light"
          }
        }
      ]
    },
    {
      "cell_type": "code",
      "source": [
        "# Polynomial Regression Predict\n",
        "\n",
        "from sklearn.preprocessing import PolynomialFeatures  \n",
        "\n",
        "polynomial_features= PolynomialFeatures(degree=4)\n",
        "x_polynomial=polynomial_features.fit_transform(x)\n"
      ],
      "metadata": {
        "id": "ehGrnT-tlKOZ"
      },
      "execution_count": 5,
      "outputs": []
    },
    {
      "cell_type": "code",
      "source": [
        "from sklearn.linear_model import LinearRegression\n",
        "\n",
        "lr=LinearRegression() \n",
        "\n",
        "lr.fit(x_polynomial,y)\n",
        "\n",
        "y_head2=lr.predict(x_polynomial)\n",
        "plt.scatter(x,y,color='blue')\n",
        "plt.plot(x,y_head2,color=\"green\")\n",
        "plt.show()"
      ],
      "metadata": {
        "colab": {
          "base_uri": "https://localhost:8080/",
          "height": 267
        },
        "id": "0Png-DI2lN7r",
        "outputId": "f31f4b62-04fc-4786-8f0d-dbf6303dedbe"
      },
      "execution_count": 6,
      "outputs": [
        {
          "output_type": "display_data",
          "data": {
            "text/plain": [
              "<Figure size 432x288 with 1 Axes>"
            ],
            "image/png": "[encoded data removed]"
          },
          "metadata": {
            "needs_background": "light"
          }
        }
      ]
    },
    {
      "cell_type": "code",
      "source": [],
      "metadata": {
        "id": "7IqFI-iHle6f"
      },
      "execution_count": null,
      "outputs": []
    }
  ]
}
