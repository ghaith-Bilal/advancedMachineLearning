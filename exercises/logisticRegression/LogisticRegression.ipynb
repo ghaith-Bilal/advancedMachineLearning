{
  "nbformat": 4,
  "nbformat_minor": 0,
  "metadata": {
    "colab": {
      "provenance": [],
      "authorship_tag": "ABX9TyOhSRhfjuflb/GZbeZaGF6M",
      "include_colab_link": true
    },
    "kernelspec": {
      "name": "python3",
      "display_name": "Python 3"
    },
    "language_info": {
      "name": "python"
    }
  },
  "cells": [
    {
      "cell_type": "markdown",
      "metadata": {
        "id": "view-in-github",
        "colab_type": "text"
      },
      "source": [
        "<a href=\"https://colab.research.google.com/github/ghaith-Bilal/advancedMachineLearning/blob/main/exercises/logisticRegression/LogisticRegression.ipynb\" target=\"_parent\"><img src=\"https://colab.research.google.com/assets/colab-badge.svg\" alt=\"Open In Colab\"/></a>"
      ]
    },
    {
      "cell_type": "code",
      "source": [
        "from google.colab import drive\n",
        "drive.mount('/content/drive')"
      ],
      "metadata": {
        "colab": {
          "base_uri": "https://localhost:8080/"
        },
        "id": "T7VSrYG_hLjG",
        "outputId": "ff47caba-16c0-4075-f0c4-2f5837080f5f"
      },
      "execution_count": 1,
      "outputs": [
        {
          "output_type": "stream",
          "name": "stdout",
          "text": [
            "Mounted at /content/drive\n"
          ]
        }
      ]
    },
    {
      "cell_type": "code",
      "source": [
        "import pandas as pd\n",
        "from matplotlib import pyplot as plt\n",
        "from sklearn.model_selection import train_test_split\n",
        "from sklearn.linear_model import LogisticRegression \n",
        "from sklearn import metrics"
      ],
      "metadata": {
        "id": "aRd7kAoHk_fb"
      },
      "execution_count": 27,
      "outputs": []
    },
    {
      "cell_type": "code",
      "source": [
        "#STEP 1: DATA READING AND UNDERSTANDING\n",
        "df = pd.read_csv(\"/content/drive/MyDrive/assignmentForAML/logisticRegression/images_analyzed_productivity1.csv\")\n",
        "print(df.head())"
      ],
      "metadata": {
        "colab": {
          "base_uri": "https://localhost:8080/"
        },
        "id": "nJ8phPvVlDnR",
        "outputId": "c3d40184-6d52-4c45-b466-d45801cf9559"
      },
      "execution_count": 28,
      "outputs": [
        {
          "output_type": "stream",
          "name": "stdout",
          "text": [
            "   User  Time  Coffee  Age  Images_Analyzed Productivity\n",
            "0     1     8       0   23               20         Good\n",
            "1     1    13       0   23               14          Bad\n",
            "2     1    17       0   23               18         Good\n",
            "3     1    22       0   23               15          Bad\n",
            "4     1     8       2   23               22         Good\n"
          ]
        }
      ]
    },
    {
      "cell_type": "code",
      "source": [
        "# plt.scatter(df.Age, df.Productivity, marker='+', color='red')\n",
        "plt.scatter(df.Time, df.Productivity, marker='*', color='green')\n",
        "# plt.scatter(df.Coffee, df.Productivity, marker='#', color='blue')"
      ],
      "metadata": {
        "colab": {
          "base_uri": "https://localhost:8080/",
          "height": 285
        },
        "id": "FXlIk6CklH9B",
        "outputId": "0aa66d35-776c-41cb-fb76-377ca453b5cc"
      },
      "execution_count": 29,
      "outputs": [
        {
          "output_type": "execute_result",
          "data": {
            "text/plain": [
              "<matplotlib.collections.PathCollection at 0x7f32310cc3d0>"
            ]
          },
          "metadata": {},
          "execution_count": 29
        },
        {
          "output_type": "display_data",
          "data": {
            "text/plain": [
              "<Figure size 432x288 with 1 Axes>"
            ],
            "image/png": "[encoded data removed]"
          },
          "metadata": {}
        }
      ]
    },
    {
      "cell_type": "code",
      "source": [
        "#PLot productivity values to see the split between Good and Bad\n",
        "sizes = df['Productivity'].value_counts(sort = 1)\n",
        "print(sizes)"
      ],
      "metadata": {
        "colab": {
          "base_uri": "https://localhost:8080/"
        },
        "id": "ehGrnT-tlKOZ",
        "outputId": "c043654c-b004-4f05-e698-ce8b1e8c4eb1"
      },
      "execution_count": 30,
      "outputs": [
        {
          "output_type": "stream",
          "name": "stdout",
          "text": [
            "Bad     42\n",
            "Good    38\n",
            "Name: Productivity, dtype: int64\n"
          ]
        }
      ]
    },
    {
      "cell_type": "code",
      "source": [
        "#Good to know so we know the proportion of each label\n",
        "plt.pie(sizes, shadow=True, autopct='%1.1f%%')"
      ],
      "metadata": {
        "colab": {
          "base_uri": "https://localhost:8080/",
          "height": 352
        },
        "id": "0Png-DI2lN7r",
        "outputId": "d71cf26e-1faf-444c-a389-3ed2e028f187"
      },
      "execution_count": 31,
      "outputs": [
        {
          "output_type": "execute_result",
          "data": {
            "text/plain": [
              "([<matplotlib.patches.Wedge at 0x7f323102a410>,\n",
              "  <matplotlib.patches.Wedge at 0x7f323102ae90>],\n",
              " [Text(-0.08630492316306847, 1.096609073570804, ''),\n",
              "  Text(0.08630482049111692, -1.0966090816512493, '')],\n",
              " [Text(-0.04707541263440097, 0.598150403765893, '52.5%'),\n",
              "  Text(0.04707535663151831, -0.5981504081734086, '47.5%')])"
            ]
          },
          "metadata": {},
          "execution_count": 31
        },
        {
          "output_type": "display_data",
          "data": {
            "text/plain": [
              "<Figure size 432x288 with 1 Axes>"
            ],
            "image/png": "[encoded data removed]"
          },
          "metadata": {}
        }
      ]
    },
    {
      "cell_type": "code",
      "source": [
        "#STEP 3: Handle missing values, if needed\n",
        "#Drops all rows with at least one null value. \n",
        "df = df.dropna()  "
      ],
      "metadata": {
        "id": "7IqFI-iHle6f"
      },
      "execution_count": 32,
      "outputs": []
    },
    {
      "cell_type": "code",
      "source": [
        "#Convert non-numeric to numeric\n",
        "df.Productivity[df.Productivity == 'Good'] = 1\n",
        "df.Productivity[df.Productivity == 'Bad'] = 2\n",
        "print(df.head())"
      ],
      "metadata": {
        "colab": {
          "base_uri": "https://localhost:8080/"
        },
        "id": "I10kXDCtqddQ",
        "outputId": "5c3c0a67-ec3d-498d-f777-a1c9ac0db0bf"
      },
      "execution_count": 33,
      "outputs": [
        {
          "output_type": "stream",
          "name": "stdout",
          "text": [
            "   User  Time  Coffee  Age  Images_Analyzed Productivity\n",
            "0     1     8       0   23               20            1\n",
            "1     1    13       0   23               14            2\n",
            "2     1    17       0   23               18            1\n",
            "3     1    22       0   23               15            2\n",
            "4     1     8       2   23               22            1\n"
          ]
        },
        {
          "output_type": "stream",
          "name": "stderr",
          "text": [
            "/usr/local/lib/python3.7/dist-packages/ipykernel_launcher.py:2: SettingWithCopyWarning: \n",
            "A value is trying to be set on a copy of a slice from a DataFrame\n",
            "\n",
            "See the caveats in the documentation: https://pandas.pydata.org/pandas-docs/stable/user_guide/indexing.html#returning-a-view-versus-a-copy\n",
            "  \n",
            "/usr/local/lib/python3.7/dist-packages/ipykernel_launcher.py:3: SettingWithCopyWarning: \n",
            "A value is trying to be set on a copy of a slice from a DataFrame\n",
            "\n",
            "See the caveats in the documentation: https://pandas.pydata.org/pandas-docs/stable/user_guide/indexing.html#returning-a-view-versus-a-copy\n",
            "  This is separate from the ipykernel package so we can avoid doing imports until\n"
          ]
        }
      ]
    },
    {
      "cell_type": "code",
      "source": [
        "#Y is the data with dependent\n",
        "Y = df[\"Productivity\"].values "
      ],
      "metadata": {
        "id": "hF9cNAUouxn1"
      },
      "execution_count": 34,
      "outputs": []
    },
    {
      "cell_type": "code",
      "source": [
        "#Convert Y to int\n",
        "Y=Y.astype('int')"
      ],
      "metadata": {
        "id": "c_pBxyGFuxvA"
      },
      "execution_count": 35,
      "outputs": []
    },
    {
      "cell_type": "code",
      "source": [
        "#X is data with independent variables, everything except Productivity column\n",
        "X = df.drop(labels = [\"Productivity\"], axis=1) \n",
        "print('features:\\n',X.head()) "
      ],
      "metadata": {
        "colab": {
          "base_uri": "https://localhost:8080/"
        },
        "id": "yIgqUNUUux2k",
        "outputId": "b1290a53-b652-4de7-b596-6d9c76b99d65"
      },
      "execution_count": 36,
      "outputs": [
        {
          "output_type": "stream",
          "name": "stdout",
          "text": [
            "features:\n",
            "    User  Time  Coffee  Age  Images_Analyzed\n",
            "0     1     8       0   23               20\n",
            "1     1    13       0   23               14\n",
            "2     1    17       0   23               18\n",
            "3     1    22       0   23               15\n",
            "4     1     8       2   23               22\n"
          ]
        }
      ]
    },
    {
      "cell_type": "code",
      "source": [
        "#SPLIT THE DATA into TRAIN AND TEST data.\n",
        "X_train, X_test, y_train, y_test = train_test_split(X, Y, test_size=0.4, random_state=20)"
      ],
      "metadata": {
        "id": "zmcqq5I-u6kg"
      },
      "execution_count": 37,
      "outputs": []
    },
    {
      "cell_type": "code",
      "source": [
        "#Create an instance of the model.\n",
        "model = LogisticRegression()\n",
        "# Train the model using training data\n",
        "model.fit(X_train, y_train)"
      ],
      "metadata": {
        "colab": {
          "base_uri": "https://localhost:8080/"
        },
        "id": "hGrF1elvu6u3",
        "outputId": "4dadd565-9da0-4af8-d586-ee0354b0818b"
      },
      "execution_count": 38,
      "outputs": [
        {
          "output_type": "execute_result",
          "data": {
            "text/plain": [
              "LogisticRegression()"
            ]
          },
          "metadata": {},
          "execution_count": 38
        }
      ]
    },
    {
      "cell_type": "code",
      "source": [
        "#TESTING THE MODEL BY PREDICTING ON TEST DATA\n",
        "#AND CALCULATE THE ACCURACY SCORE\n",
        "prediction_test = model.predict(X_test)\n",
        "#Print the prediction accuracy\n",
        "print (\"Accuracy = \", metrics.accuracy_score(y_test, prediction_test))\n"
      ],
      "metadata": {
        "colab": {
          "base_uri": "https://localhost:8080/"
        },
        "id": "FoxRat2FvIa3",
        "outputId": "80ce2176-8a0d-42f9-a6bc-b67e2955b19d"
      },
      "execution_count": 39,
      "outputs": [
        {
          "output_type": "stream",
          "name": "stdout",
          "text": [
            "Accuracy =  0.90625\n"
          ]
        }
      ]
    }
  ]
}