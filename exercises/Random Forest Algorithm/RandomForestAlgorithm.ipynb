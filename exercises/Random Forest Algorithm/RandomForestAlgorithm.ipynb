{
  "nbformat": 4,
  "nbformat_minor": 0,
  "metadata": {
    "colab": {
      "provenance": [],
      "authorship_tag": "ABX9TyPpAvbUq1KDcA5SPpkN3zZz"
    },
    "kernelspec": {
      "name": "python3",
      "display_name": "Python 3"
    },
    "language_info": {
      "name": "python"
    }
  },
  "cells": [
    {
      "cell_type": "code",
      "source": [
        "from google.colab import drive\n",
        "drive.mount('/content/drive')"
      ],
      "metadata": {
        "colab": {
          "base_uri": "https://localhost:8080/"
        },
        "id": "T7VSrYG_hLjG",
        "outputId": "ff47caba-16c0-4075-f0c4-2f5837080f5f"
      },
      "execution_count": 1,
      "outputs": [
        {
          "output_type": "stream",
          "name": "stdout",
          "text": [
            "Mounted at /content/drive\n"
          ]
        }
      ]
    },
    {
      "cell_type": "code",
      "source": [
        "import pandas as pd \n",
        "from sklearn.model_selection import train_test_split \n",
        "from sklearn.ensemble import RandomForestClassifier\n",
        "from sklearn import metrics"
      ],
      "metadata": {
        "id": "aRd7kAoHk_fb"
      },
      "execution_count": 7,
      "outputs": []
    },
    {
      "cell_type": "code",
      "source": [
        "#read the DataSet\n",
        "df=pd.read_csv('/content/drive/MyDrive/assignmentForAML/RandomForestAlgorithm/images_analyzed.csv')\n",
        "print(df.head())"
      ],
      "metadata": {
        "colab": {
          "base_uri": "https://localhost:8080/"
        },
        "id": "nJ8phPvVlDnR",
        "outputId": "9843d319-f8be-48e6-e939-8bbe395cb93f"
      },
      "execution_count": 10,
      "outputs": [
        {
          "output_type": "stream",
          "name": "stdout",
          "text": [
            "   User  Time  Coffee  Age  Images_Analyzed Productivity\n",
            "0     1     8       0   23               20         Good\n",
            "1     1    13       0   23               14          Bad\n",
            "2     1    17       0   23               18         Good\n",
            "3     1    22       0   23               15          Bad\n",
            "4     1     8       2   23               22         Good\n"
          ]
        }
      ]
    },
    {
      "cell_type": "code",
      "source": [
        "#sort the output and count the number of the classes to see \n",
        "#if the dataset is balanced or No \n",
        "sizes=df['Productivity'].value_counts(sort=1)\n",
        "print(sizes)"
      ],
      "metadata": {
        "colab": {
          "base_uri": "https://localhost:8080/"
        },
        "id": "FXlIk6CklH9B",
        "outputId": "9905d59f-265d-4efa-dc1b-992829628d46"
      },
      "execution_count": 11,
      "outputs": [
        {
          "output_type": "stream",
          "name": "stdout",
          "text": [
            "Bad     42\n",
            "Good    38\n",
            "Name: Productivity, dtype: int64\n"
          ]
        }
      ]
    },
    {
      "cell_type": "code",
      "source": [
        "#drop irrelevant columns \n",
        "df=df.drop(['Images_Analyzed'],axis=1)\n",
        "df=df.drop(['User'],axis=1)"
      ],
      "metadata": {
        "id": "ehGrnT-tlKOZ"
      },
      "execution_count": 12,
      "outputs": []
    },
    {
      "cell_type": "code",
      "source": [
        "#Convert non_numeric datato numeric \n",
        "df.Productivity[df.Productivity=='Good']=1\n",
        "df.Productivity[df.Productivity=='Bad']=2\n",
        "print(df.head())"
      ],
      "metadata": {
        "colab": {
          "base_uri": "https://localhost:8080/"
        },
        "id": "0Png-DI2lN7r",
        "outputId": "290a9e0d-d5c0-4573-b84d-a78355d098dc"
      },
      "execution_count": 13,
      "outputs": [
        {
          "output_type": "stream",
          "name": "stdout",
          "text": [
            "   Time  Coffee  Age Productivity\n",
            "0     8       0   23            1\n",
            "1    13       0   23            2\n",
            "2    17       0   23            1\n",
            "3    22       0   23            2\n",
            "4     8       2   23            1\n"
          ]
        },
        {
          "output_type": "stream",
          "name": "stderr",
          "text": [
            "/usr/local/lib/python3.7/dist-packages/ipykernel_launcher.py:2: SettingWithCopyWarning: \n",
            "A value is trying to be set on a copy of a slice from a DataFrame\n",
            "\n",
            "See the caveats in the documentation: https://pandas.pydata.org/pandas-docs/stable/user_guide/indexing.html#returning-a-view-versus-a-copy\n",
            "  \n",
            "/usr/local/lib/python3.7/dist-packages/ipykernel_launcher.py:3: SettingWithCopyWarning: \n",
            "A value is trying to be set on a copy of a slice from a DataFrame\n",
            "\n",
            "See the caveats in the documentation: https://pandas.pydata.org/pandas-docs/stable/user_guide/indexing.html#returning-a-view-versus-a-copy\n",
            "  This is separate from the ipykernel package so we can avoid doing imports until\n"
          ]
        }
      ]
    },
    {
      "cell_type": "code",
      "source": [
        "#Define Dependent variable \n",
        "Y=df['Productivity'].values\n",
        "Y=Y.astype('int')\n",
        "print(Y)"
      ],
      "metadata": {
        "colab": {
          "base_uri": "https://localhost:8080/"
        },
        "id": "7IqFI-iHle6f",
        "outputId": "a96e1771-14e8-4000-b06e-f1c26f82b2a6"
      },
      "execution_count": 14,
      "outputs": [
        {
          "output_type": "stream",
          "name": "stdout",
          "text": [
            "[1 2 1 2 1 2 1 1 1 2 1 1 1 2 2 2 1 2 1 2 1 2 1 2 1 2 1 2 1 2 2 2 1 2 1 2 1\n",
            " 2 1 2 1 2 1 1 1 2 2 2 1 2 1 2 1 2 1 2 1 2 1 2 1 2 2 2 1 2 1 2 1 2 1 2 1 2\n",
            " 1 2 1 2 2 2]\n"
          ]
        }
      ]
    },
    {
      "cell_type": "code",
      "source": [
        "#Define independent variables \n",
        "X=df.drop(['Productivity'],axis=1)\n",
        "print(X)"
      ],
      "metadata": {
        "colab": {
          "base_uri": "https://localhost:8080/"
        },
        "id": "GShlPEmMp-Jd",
        "outputId": "a6824086-7b18-4194-a5bd-9e0e6c9615a8"
      },
      "execution_count": 15,
      "outputs": [
        {
          "output_type": "stream",
          "name": "stdout",
          "text": [
            "    Time  Coffee  Age\n",
            "0      8       0   23\n",
            "1     13       0   23\n",
            "2     17       0   23\n",
            "3     22       0   23\n",
            "4      8       2   23\n",
            "..   ...     ...  ...\n",
            "75    23       4   52\n",
            "76     9       6   52\n",
            "77    14       6   52\n",
            "78    17       6   52\n",
            "79    23       6   52\n",
            "\n",
            "[80 rows x 3 columns]\n"
          ]
        }
      ]
    },
    {
      "cell_type": "code",
      "source": [
        "#split data into train and test dataset\n",
        "X_train,X_test,Y_train,Y_test=train_test_split(X,Y,test_size=0.2,random_state=20)"
      ],
      "metadata": {
        "id": "6JhhYosAp-Wr"
      },
      "execution_count": 16,
      "outputs": []
    },
    {
      "cell_type": "code",
      "source": [
        "#now apply the  random forest algorithm \n",
        "model=RandomForestClassifier(n_estimators=10,random_state=30)"
      ],
      "metadata": {
        "id": "ldBEHZezp-eO"
      },
      "execution_count": 17,
      "outputs": []
    },
    {
      "cell_type": "code",
      "source": [
        "#train the model  \n",
        "model.fit(X_train,Y_train)  \n"
      ],
      "metadata": {
        "colab": {
          "base_uri": "https://localhost:8080/"
        },
        "id": "RllboSCHp-nE",
        "outputId": "e28b2ecc-9ea6-4440-cbc6-4e20fa17c66e"
      },
      "execution_count": 18,
      "outputs": [
        {
          "output_type": "execute_result",
          "data": {
            "text/plain": [
              "RandomForestClassifier(n_estimators=10, random_state=30)"
            ]
          },
          "metadata": {},
          "execution_count": 18
        }
      ]
    },
    {
      "cell_type": "code",
      "source": [
        "#test the model \n",
        "prediction_test=model.predict(X_test)\n",
        "print(prediction_test)\n"
      ],
      "metadata": {
        "colab": {
          "base_uri": "https://localhost:8080/"
        },
        "id": "Uq3FWWfJqPOP",
        "outputId": "8844fdba-b894-49e0-99c8-695395c5e1bf"
      },
      "execution_count": 19,
      "outputs": [
        {
          "output_type": "stream",
          "name": "stdout",
          "text": [
            "[2 1 2 1 2 1 1 2 1 2 1 1 2 2 2 1]\n"
          ]
        }
      ]
    },
    {
      "cell_type": "code",
      "source": [
        "#Calculate the Accuracy \n",
        "from sklearn import metrics\n",
        "print('the Accuracy of the model is =',metrics.accuracy_score(Y_test,prediction_test))     \n",
        "\n"
      ],
      "metadata": {
        "colab": {
          "base_uri": "https://localhost:8080/"
        },
        "id": "g1rIY4xcqPk8",
        "outputId": "11d65b44-b23d-4a94-9f92-447fa672b434"
      },
      "execution_count": 20,
      "outputs": [
        {
          "output_type": "stream",
          "name": "stdout",
          "text": [
            "the Accuracy of the model is = 0.9375\n"
          ]
        }
      ]
    },
    {
      "cell_type": "code",
      "source": [],
      "metadata": {
        "id": "I10kXDCtqddQ"
      },
      "execution_count": null,
      "outputs": []
    }
  ]
}